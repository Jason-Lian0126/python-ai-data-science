{
  "nbformat": 4,
  "nbformat_minor": 0,
  "metadata": {
    "colab": {
      "provenance": [],
      "authorship_tag": "ABX9TyNJtgz33zIbSlkFvA83GMO/"
    },
    "kernelspec": {
      "name": "python3",
      "display_name": "Python 3"
    },
    "language_info": {
      "name": "python"
    }
  },
  "cells": [
    {
      "cell_type": "code",
      "source": [
        "!pip install yfinance"
      ],
      "metadata": {
        "id": "PKa11VIQ7bs4"
      },
      "execution_count": null,
      "outputs": []
    },
    {
      "cell_type": "code",
      "execution_count": null,
      "metadata": {
        "id": "CPHRuEpPGCYI"
      },
      "outputs": [],
      "source": [
        "import yfinance as yf\n",
        "import pandas as pd\n",
        "import matplotlib.pyplot as plt\n",
        "import time\n",
        "\n",
        "# 設定要獲取的股票代碼\n",
        "stock_code = \"2330.tw\"\n",
        "\n",
        "# 建立一個空的DataFrame用於儲存股票數據\n",
        "df = pd.DataFrame()\n",
        "\n",
        "# 不斷循環獲取股票數據\n",
        "while True:\n",
        "    # 獲取股票數據\n",
        "    stock_data = yf.download(stock_code, period=\"1d\", interval=\"1m\")\n",
        "    # 將數據加入DataFrame\n",
        "    df = df.append(stock_data)\n",
        "    # 暫停30秒\n",
        "    time.sleep(30)\n",
        "    # 將數據儲存為csv檔\n",
        "    df.to_csv(f\"{stock_code}_data.csv\")\n",
        "    # 繪製股票價格走勢圖\n",
        "    plt.plot(df[\"Close\"])\n",
        "    plt.title(f\"{stock_code} Price Chart\")\n",
        "    plt.xlabel(\"Time\")\n",
        "    plt.ylabel(\"Price\")\n",
        "    plt.show()\n"
      ]
    }
  ]
}