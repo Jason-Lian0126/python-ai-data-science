{
  "nbformat": 4,
  "nbformat_minor": 0,
  "metadata": {
    "colab": {
      "provenance": [],
      "authorship_tag": "ABX9TyOMjgJ2U8I5qBB8Wzp9Uaju",
      "include_colab_link": true
    },
    "kernelspec": {
      "name": "python3",
      "display_name": "Python 3"
    },
    "language_info": {
      "name": "python"
    }
  },
  "cells": [
    {
      "cell_type": "markdown",
      "metadata": {
        "id": "view-in-github",
        "colab_type": "text"
      },
      "source": [
        "<a href=\"https://colab.research.google.com/github/Jason-Lian0126/python-ai-data-science/blob/main/Wikipedia_API.ipynb\" target=\"_parent\"><img src=\"https://colab.research.google.com/assets/colab-badge.svg\" alt=\"Open In Colab\"/></a>"
      ]
    },
    {
      "cell_type": "code",
      "execution_count": null,
      "metadata": {
        "colab": {
          "base_uri": "https://localhost:8080/"
        },
        "id": "443syCOWaqF_",
        "outputId": "595cf993-ed7b-45cf-bd29-4f3ba309aa69"
      },
      "outputs": [
        {
          "output_type": "stream",
          "name": "stdout",
          "text": [
            "Looking in indexes: https://pypi.org/simple, https://us-python.pkg.dev/colab-wheels/public/simple/\n",
            "Collecting wikipedia\n",
            "  Downloading wikipedia-1.4.0.tar.gz (27 kB)\n",
            "  Preparing metadata (setup.py) ... \u001b[?25l\u001b[?25hdone\n",
            "Requirement already satisfied: beautifulsoup4 in /usr/local/lib/python3.9/dist-packages (from wikipedia) (4.11.2)\n",
            "Requirement already satisfied: requests<3.0.0,>=2.0.0 in /usr/local/lib/python3.9/dist-packages (from wikipedia) (2.27.1)\n",
            "Requirement already satisfied: certifi>=2017.4.17 in /usr/local/lib/python3.9/dist-packages (from requests<3.0.0,>=2.0.0->wikipedia) (2022.12.7)\n",
            "Requirement already satisfied: charset-normalizer~=2.0.0 in /usr/local/lib/python3.9/dist-packages (from requests<3.0.0,>=2.0.0->wikipedia) (2.0.12)\n",
            "Requirement already satisfied: urllib3<1.27,>=1.21.1 in /usr/local/lib/python3.9/dist-packages (from requests<3.0.0,>=2.0.0->wikipedia) (1.26.15)\n",
            "Requirement already satisfied: idna<4,>=2.5 in /usr/local/lib/python3.9/dist-packages (from requests<3.0.0,>=2.0.0->wikipedia) (3.4)\n",
            "Requirement already satisfied: soupsieve>1.2 in /usr/local/lib/python3.9/dist-packages (from beautifulsoup4->wikipedia) (2.4)\n",
            "Building wheels for collected packages: wikipedia\n",
            "  Building wheel for wikipedia (setup.py) ... \u001b[?25l\u001b[?25hdone\n",
            "  Created wheel for wikipedia: filename=wikipedia-1.4.0-py3-none-any.whl size=11696 sha256=1bea6ba9494e6b41b7e41f100fcb5260b75d909ba86207e9601a0b720d0ec637\n",
            "  Stored in directory: /root/.cache/pip/wheels/c2/46/f4/caa1bee71096d7b0cdca2f2a2af45cacf35c5760bee8f00948\n",
            "Successfully built wikipedia\n",
            "Installing collected packages: wikipedia\n",
            "Successfully installed wikipedia-1.4.0\n"
          ]
        }
      ],
      "source": [
        "!pip install wikipedia"
      ]
    },
    {
      "cell_type": "code",
      "source": [
        "import wikipedia\n",
        "print(wikipedia.search(\"Coronavirus\"))"
      ],
      "metadata": {
        "colab": {
          "base_uri": "https://localhost:8080/"
        },
        "id": "u3RLHqOcbPGX",
        "outputId": "3003ff63-4bcc-4018-b972-5762f08201d6"
      },
      "execution_count": null,
      "outputs": [
        {
          "output_type": "stream",
          "name": "stdout",
          "text": [
            "['Coronavirus', 'COVID-19 pandemic', 'COVID-19', 'History of coronavirus', 'COVID-19 pandemic in the United States', 'Novel coronavirus', 'COVID-19 pandemic in India', 'COVID-19 pandemic in Italy', 'Feline coronavirus', 'COVID-19 pandemic by country and territory']\n"
          ]
        }
      ]
    },
    {
      "cell_type": "code",
      "source": [
        "print(wikipedia.search(\"Coronavirus\", results = 5, suggestion = True))"
      ],
      "metadata": {
        "colab": {
          "base_uri": "https://localhost:8080/"
        },
        "id": "dRhS4ox2dJGm",
        "outputId": "baee259e-2412-463f-f667-6a7011618b1f"
      },
      "execution_count": null,
      "outputs": [
        {
          "output_type": "stream",
          "name": "stdout",
          "text": [
            "(['Coronavirus', 'COVID-19 pandemic', 'COVID-19', 'COVID-19 pandemic in the United States', 'History of coronavirus'], None)\n"
          ]
        }
      ]
    },
    {
      "cell_type": "code",
      "source": [
        "print(wikipedia.suggest('Coronavir'))"
      ],
      "metadata": {
        "colab": {
          "base_uri": "https://localhost:8080/"
        },
        "id": "TUgDVJI2dTyH",
        "outputId": "b1085752-7956-426e-fe45-82f8983a5d0c"
      },
      "execution_count": null,
      "outputs": [
        {
          "output_type": "stream",
          "name": "stdout",
          "text": [
            "coronavirus\n"
          ]
        }
      ]
    },
    {
      "cell_type": "code",
      "source": [
        "print(wikipedia.summary(\"Coronavirus\"))"
      ],
      "metadata": {
        "colab": {
          "base_uri": "https://localhost:8080/"
        },
        "id": "lSphpgaKdZAP",
        "outputId": "ef816d46-1e12-4235-ef60-05ea796c5991"
      },
      "execution_count": null,
      "outputs": [
        {
          "output_type": "stream",
          "name": "stdout",
          "text": [
            "Coronaviruses are a group of related RNA viruses that cause diseases in mammals and birds. In humans and birds, they cause respiratory tract infections that can range from mild to lethal. Mild illnesses in humans include some cases of the common cold (which is also caused by other viruses, predominantly rhinoviruses), while more lethal varieties can cause SARS, MERS and COVID-19, which is causing the ongoing pandemic. In cows and pigs they cause diarrhea, while in mice they cause hepatitis and encephalomyelitis.\n",
            "Coronaviruses constitute the subfamily Orthocoronavirinae, in the family Coronaviridae, order Nidovirales and realm Riboviria. They are enveloped viruses with a positive-sense single-stranded RNA genome and a nucleocapsid of helical symmetry. The genome size of coronaviruses ranges from approximately 26 to 32 kilobases, one of the largest among RNA viruses. They have characteristic club-shaped spikes that project from their surface, which in electron micrographs create an image reminiscent of the stellar corona, from which their name derives.\n"
          ]
        }
      ]
    },
    {
      "cell_type": "code",
      "source": [
        "wikipedia.set_lang(\"zh-tw\")\n",
        "wikipedia.summary(\"Coronavirus\")"
      ],
      "metadata": {
        "colab": {
          "base_uri": "https://localhost:8080/",
          "height": 226
        },
        "id": "iNf068p9dzFY",
        "outputId": "a70c5007-add1-43b8-fea4-ac657dcefd47"
      },
      "execution_count": null,
      "outputs": [
        {
          "output_type": "execute_result",
          "data": {
            "text/plain": [
              "'正冠狀病毒亞科（學名：Orthocoronavirinae）通称冠状病毒（拉丁文／英文：coronavirus），是一类可感染哺乳动物與鸟类的病毒，属于网巢病毒目冠状病毒科，為具有包膜的正單鏈RNA病毒。最早發現的冠狀病毒為1920年代感染雞隻的傳染性支氣管炎病毒（IBV），1960年代始發現造成人類普通感冒的冠狀病毒，而冠狀病毒之名則是在1968年發表，得名自其表面的棒狀突起（刺突）。\\n冠狀病毒的基因組大小介於26000與32000nt之間，是RNA病毒中基因組大小位居前列者，編碼刺突蛋白（S）又稱棘蛋白、包膜蛋白（E）、膜蛋白（M）和核殼蛋白（N）等四種結構蛋白、複製酶（ORF1a/b）與若干輔助蛋白；冠状病毒可利用自身合成的複製酶及蛋白酶，合成上述蛋白及其它非結構蛋白；部分冠狀病毒還能合成而具有血細胞凝集素酯酶（HE）。這些蛋白除維持病毒結構，還有促進感染與抵抗宿主免疫反應等功能。\\n刺突蛋白可與宿主細胞表面的受體結合，使病毒包膜和宿主細胞的膜融合以感染細胞。進入宿主細胞後，冠狀病毒會造成細胞內膜的重組，並在特化的膜結構中進行複製與轉錄，轉錄時會發生模板跳轉而產生許多長度不一的次基因組RNA，皆包含一或數個結構蛋白的基因，此跳轉可能是不同冠狀病毒間發生基因重組的機制。次基因組RNA與完整的mRNA皆可被轉譯成蛋白質，複製酶（ORF1a/b）在轉譯時會發生-1核糖體移碼而產生1a或1ab兩種多聚蛋白，可分別被自身的蛋白酶切割而形成14種非結構蛋白，參與病毒的轉錄與複製，其中一個非結構蛋白nsp14具有校對的功能，使冠狀病毒複製的準確度高於其他RNA病毒，可能是其得以維持較長基因組的原因。冠狀病毒的感染會影響細胞的許多訊息傳遞途徑，引發免疫反應，而病毒也有許多機制加以抵抗。\\n冠狀病毒依基因組成序列分為甲型、乙型、丙型與丁型等四個屬，其中甲型與乙型冠狀病毒為感染哺乳動物，其共祖可能是蝙蝠病毒，丙型與丁型冠狀病毒則以感染鳥類為主，其共祖應是鳥類病毒，而乙型冠狀病毒的Embecovirus亞屬可能是起源自感染鼠類的病毒，其中的鼠肝炎病毒為冠狀病毒研究的模式病毒，冠狀病毒的許多分子機制皆是通過研究此病毒而被闡明。\\n已知可感染人类的冠状病毒共有7种，其中有4種（人類冠狀病毒229E、人類冠狀病毒OC43、人類冠狀病毒NL63與人類冠狀病毒HKU1）可引发普通感冒，另外3種為導致嚴重疾病的严重急性呼吸道综合征冠状病毒（SARS-CoV）、中東呼吸症候群冠狀病毒（MERS-CoV）與严重急性呼吸系统综合征冠状病毒2（SARS-CoV-2），皆曾在全球各地造成疫情。此外還有許多冠狀病毒可感染家畜與家禽、寵物、實驗動物和野生動物，例如感染雞隻的禽冠狀病毒、感染豬隻的數種豬冠狀病毒、感染犬與貓的犬冠狀病毒和貓冠狀病毒、感染實驗小鼠與大鼠的鼠冠狀病毒。'"
            ],
            "application/vnd.google.colaboratory.intrinsic+json": {
              "type": "string"
            }
          },
          "metadata": {},
          "execution_count": 7
        }
      ]
    },
    {
      "cell_type": "code",
      "source": [
        "wikipedia.languages()"
      ],
      "metadata": {
        "colab": {
          "base_uri": "https://localhost:8080/"
        },
        "id": "qMFidjOU8fMD",
        "outputId": "4cfd3ad0-f336-4ef8-a502-3145678810e1"
      },
      "execution_count": null,
      "outputs": [
        {
          "output_type": "execute_result",
          "data": {
            "text/plain": [
              "{'aa': 'Qafár af',\n",
              " 'ab': 'аԥсшәа',\n",
              " 'abs': 'bahasa ambon',\n",
              " 'ace': 'Acèh',\n",
              " 'ady': 'адыгабзэ',\n",
              " 'ady-cyrl': 'адыгабзэ',\n",
              " 'aeb': 'تونسي / Tûnsî',\n",
              " 'aeb-arab': 'تونسي',\n",
              " 'aeb-latn': 'Tûnsî',\n",
              " 'af': 'Afrikaans',\n",
              " 'ak': 'Akan',\n",
              " 'aln': 'Gegë',\n",
              " 'als': 'Alemannisch',\n",
              " 'alt': 'алтай тил',\n",
              " 'am': 'አማርኛ',\n",
              " 'ami': 'Pangcah',\n",
              " 'an': 'aragonés',\n",
              " 'ang': 'Ænglisc',\n",
              " 'ann': 'Obolo',\n",
              " 'anp': 'अंगिका',\n",
              " 'ar': 'العربية',\n",
              " 'arc': 'ܐܪܡܝܐ',\n",
              " 'arn': 'mapudungun',\n",
              " 'arq': 'جازايرية',\n",
              " 'ary': 'الدارجة',\n",
              " 'arz': 'مصرى',\n",
              " 'as': 'অসমীয়া',\n",
              " 'ase': 'American sign language',\n",
              " 'ast': 'asturianu',\n",
              " 'atj': 'Atikamekw',\n",
              " 'av': 'авар',\n",
              " 'avk': 'Kotava',\n",
              " 'awa': 'अवधी',\n",
              " 'ay': 'Aymar aru',\n",
              " 'az': 'azərbaycanca',\n",
              " 'azb': 'تۆرکجه',\n",
              " 'ba': 'башҡортса',\n",
              " 'ban': 'Basa Bali',\n",
              " 'ban-bali': 'ᬩᬲᬩᬮᬶ',\n",
              " 'bar': 'Boarisch',\n",
              " 'bat-smg': 'žemaitėška',\n",
              " 'bbc': 'Batak Toba',\n",
              " 'bbc-latn': 'Batak Toba',\n",
              " 'bcc': 'جهلسری بلوچی',\n",
              " 'bci': 'wawle',\n",
              " 'bcl': 'Bikol Central',\n",
              " 'be': 'беларуская',\n",
              " 'be-tarask': 'беларуская (тарашкевіца)',\n",
              " 'be-x-old': 'беларуская (тарашкевіца)',\n",
              " 'bg': 'български',\n",
              " 'bgn': 'روچ کپتین بلوچی',\n",
              " 'bh': 'भोजपुरी',\n",
              " 'bho': 'भोजपुरी',\n",
              " 'bi': 'Bislama',\n",
              " 'bjn': 'Banjar',\n",
              " 'blk': 'ပအိုဝ်ႏဘာႏသာႏ',\n",
              " 'bm': 'bamanankan',\n",
              " 'bn': 'বাংলা',\n",
              " 'bo': 'བོད་ཡིག',\n",
              " 'bpy': 'বিষ্ণুপ্রিয়া মণিপুরী',\n",
              " 'bqi': 'بختیاری',\n",
              " 'br': 'brezhoneg',\n",
              " 'brh': 'Bráhuí',\n",
              " 'bs': 'bosanski',\n",
              " 'btm': 'Batak Mandailing',\n",
              " 'bto': 'Iriga Bicolano',\n",
              " 'bug': 'ᨅᨔ ᨕᨘᨁᨗ',\n",
              " 'bxr': 'буряад',\n",
              " 'ca': 'català',\n",
              " 'cbk-zam': 'Chavacano de Zamboanga',\n",
              " 'cdo': '閩東語 / Mìng-dĕ̤ng-ngṳ̄',\n",
              " 'ce': 'нохчийн',\n",
              " 'ceb': 'Cebuano',\n",
              " 'ch': 'Chamoru',\n",
              " 'cho': 'Chahta Anumpa',\n",
              " 'chr': 'ᏣᎳᎩ',\n",
              " 'chy': 'Tsetsêhestâhese',\n",
              " 'ckb': 'کوردی',\n",
              " 'co': 'corsu',\n",
              " 'cps': 'Capiceño',\n",
              " 'cr': 'Nēhiyawēwin / ᓀᐦᐃᔭᐍᐏᐣ',\n",
              " 'crh': 'qırımtatarca',\n",
              " 'crh-cyrl': 'къырымтатарджа (Кирилл)',\n",
              " 'crh-latn': 'qırımtatarca (Latin)',\n",
              " 'cs': 'čeština',\n",
              " 'csb': 'kaszëbsczi',\n",
              " 'cu': 'словѣньскъ / ⰔⰎⰑⰂⰡⰐⰠⰔⰍⰟ',\n",
              " 'cv': 'чӑвашла',\n",
              " 'cy': 'Cymraeg',\n",
              " 'da': 'dansk',\n",
              " 'dag': 'dagbanli',\n",
              " 'de': 'Deutsch',\n",
              " 'de-at': 'Österreichisches Deutsch',\n",
              " 'de-ch': 'Schweizer Hochdeutsch',\n",
              " 'de-formal': 'Deutsch (Sie-Form)',\n",
              " 'dga': 'Dagaare',\n",
              " 'din': 'Thuɔŋjäŋ',\n",
              " 'diq': 'Zazaki',\n",
              " 'dsb': 'dolnoserbski',\n",
              " 'dtp': 'Dusun Bundu-liwan',\n",
              " 'dty': 'डोटेली',\n",
              " 'dv': 'ދިވެހިބަސް',\n",
              " 'dz': 'ཇོང་ཁ',\n",
              " 'ee': 'eʋegbe',\n",
              " 'egl': 'Emiliàn',\n",
              " 'el': 'Ελληνικά',\n",
              " 'eml': 'emiliàn e rumagnòl',\n",
              " 'en': 'English',\n",
              " 'en-ca': 'Canadian English',\n",
              " 'en-gb': 'British English',\n",
              " 'eo': 'Esperanto',\n",
              " 'es': 'español',\n",
              " 'es-419': 'español de América Latina',\n",
              " 'es-formal': 'español (formal)',\n",
              " 'et': 'eesti',\n",
              " 'eu': 'euskara',\n",
              " 'ext': 'estremeñu',\n",
              " 'fa': 'فارسی',\n",
              " 'fat': 'mfantse',\n",
              " 'ff': 'Fulfulde',\n",
              " 'fi': 'suomi',\n",
              " 'fit': 'meänkieli',\n",
              " 'fiu-vro': 'võro',\n",
              " 'fj': 'Na Vosa Vakaviti',\n",
              " 'fo': 'føroyskt',\n",
              " 'fon': 'fɔ̀ngbè',\n",
              " 'fr': 'français',\n",
              " 'frc': 'français cadien',\n",
              " 'frp': 'arpetan',\n",
              " 'frr': 'Nordfriisk',\n",
              " 'fur': 'furlan',\n",
              " 'fy': 'Frysk',\n",
              " 'ga': 'Gaeilge',\n",
              " 'gaa': 'Ga',\n",
              " 'gag': 'Gagauz',\n",
              " 'gan': '贛語',\n",
              " 'gan-hans': '赣语（简体）',\n",
              " 'gan-hant': '贛語（繁體）',\n",
              " 'gcr': 'kriyòl gwiyannen',\n",
              " 'gd': 'Gàidhlig',\n",
              " 'gl': 'galego',\n",
              " 'gld': 'на̄ни',\n",
              " 'glk': 'گیلکی',\n",
              " 'gn': \"Avañe'ẽ\",\n",
              " 'gom': 'गोंयची कोंकणी / Gõychi Konknni',\n",
              " 'gom-deva': 'गोंयची कोंकणी',\n",
              " 'gom-latn': 'Gõychi Konknni',\n",
              " 'gor': 'Bahasa Hulontalo',\n",
              " 'got': '𐌲𐌿𐍄𐌹𐍃𐌺',\n",
              " 'gpe': 'Ghanaian Pidgin',\n",
              " 'grc': 'Ἀρχαία ἑλληνικὴ',\n",
              " 'gsw': 'Alemannisch',\n",
              " 'gu': 'ગુજરાતી',\n",
              " 'guc': 'wayuunaiki',\n",
              " 'gur': 'farefare',\n",
              " 'guw': 'gungbe',\n",
              " 'gv': 'Gaelg',\n",
              " 'ha': 'Hausa',\n",
              " 'hak': '客家語/Hak-kâ-ngî',\n",
              " 'haw': 'Hawaiʻi',\n",
              " 'he': 'עברית',\n",
              " 'hi': 'हिन्दी',\n",
              " 'hif': 'Fiji Hindi',\n",
              " 'hif-latn': 'Fiji Hindi',\n",
              " 'hil': 'Ilonggo',\n",
              " 'ho': 'Hiri Motu',\n",
              " 'hr': 'hrvatski',\n",
              " 'hrx': 'Hunsrik',\n",
              " 'hsb': 'hornjoserbsce',\n",
              " 'hsn': '湘语',\n",
              " 'ht': 'Kreyòl ayisyen',\n",
              " 'hu': 'magyar',\n",
              " 'hu-formal': 'magyar (formal)',\n",
              " 'hy': 'հայերեն',\n",
              " 'hyw': 'Արեւմտահայերէն',\n",
              " 'hz': 'Otsiherero',\n",
              " 'ia': 'interlingua',\n",
              " 'id': 'Bahasa Indonesia',\n",
              " 'ie': 'Interlingue',\n",
              " 'ig': 'Igbo',\n",
              " 'igl': 'Igala',\n",
              " 'ii': 'ꆇꉙ',\n",
              " 'ik': 'Iñupiatun',\n",
              " 'ike-cans': 'ᐃᓄᒃᑎᑐᑦ',\n",
              " 'ike-latn': 'inuktitut',\n",
              " 'ilo': 'Ilokano',\n",
              " 'inh': 'гӀалгӀай',\n",
              " 'io': 'Ido',\n",
              " 'is': 'íslenska',\n",
              " 'it': 'italiano',\n",
              " 'iu': 'ᐃᓄᒃᑎᑐᑦ / inuktitut',\n",
              " 'ja': '日本語',\n",
              " 'jam': 'Patois',\n",
              " 'jbo': 'la .lojban.',\n",
              " 'jut': 'jysk',\n",
              " 'jv': 'Jawa',\n",
              " 'ka': 'ქართული',\n",
              " 'kaa': 'Qaraqalpaqsha',\n",
              " 'kab': 'Taqbaylit',\n",
              " 'kbd': 'адыгэбзэ',\n",
              " 'kbd-cyrl': 'адыгэбзэ',\n",
              " 'kbp': 'Kabɩyɛ',\n",
              " 'kcg': 'Tyap',\n",
              " 'kea': 'kabuverdianu',\n",
              " 'kg': 'Kongo',\n",
              " 'khw': 'کھوار',\n",
              " 'ki': 'Gĩkũyũ',\n",
              " 'kiu': 'Kırmancki',\n",
              " 'kj': 'Kwanyama',\n",
              " 'kjh': 'хакас',\n",
              " 'kjp': 'ဖၠုံလိက်',\n",
              " 'kk': 'қазақша',\n",
              " 'kk-arab': 'قازاقشا (تٴوتە)',\n",
              " 'kk-cn': 'قازاقشا (جۇنگو)',\n",
              " 'kk-cyrl': 'қазақша (кирил)',\n",
              " 'kk-kz': 'қазақша (Қазақстан)',\n",
              " 'kk-latn': 'qazaqşa (latın)',\n",
              " 'kk-tr': 'qazaqşa (Türkïya)',\n",
              " 'kl': 'kalaallisut',\n",
              " 'km': 'ភាសាខ្មែរ',\n",
              " 'kn': 'ಕನ್ನಡ',\n",
              " 'ko': '한국어',\n",
              " 'ko-kp': '조선말',\n",
              " 'koi': 'перем коми',\n",
              " 'kr': 'kanuri',\n",
              " 'krc': 'къарачай-малкъар',\n",
              " 'kri': 'Krio',\n",
              " 'krj': 'Kinaray-a',\n",
              " 'krl': 'karjal',\n",
              " 'ks': 'कॉशुर / کٲشُر',\n",
              " 'ks-arab': 'کٲشُر',\n",
              " 'ks-deva': 'कॉशुर',\n",
              " 'ksh': 'Ripoarisch',\n",
              " 'ksw': 'စှီၤ',\n",
              " 'ku': 'kurdî',\n",
              " 'ku-arab': 'كوردي (عەرەبی)',\n",
              " 'ku-latn': 'kurdî (latînî)',\n",
              " 'kum': 'къумукъ',\n",
              " 'kus': 'Kʋsaal',\n",
              " 'kv': 'коми',\n",
              " 'kw': 'kernowek',\n",
              " 'ky': 'кыргызча',\n",
              " 'la': 'Latina',\n",
              " 'lad': 'Ladino',\n",
              " 'lb': 'Lëtzebuergesch',\n",
              " 'lbe': 'лакку',\n",
              " 'lez': 'лезги',\n",
              " 'lfn': 'Lingua Franca Nova',\n",
              " 'lg': 'Luganda',\n",
              " 'li': 'Limburgs',\n",
              " 'lij': 'Ligure',\n",
              " 'liv': 'Līvõ kēļ',\n",
              " 'lki': 'لەکی',\n",
              " 'lld': 'Ladin',\n",
              " 'lmo': 'lombard',\n",
              " 'ln': 'lingála',\n",
              " 'lo': 'ລາວ',\n",
              " 'loz': 'Silozi',\n",
              " 'lrc': 'لۊری شومالی',\n",
              " 'lt': 'lietuvių',\n",
              " 'ltg': 'latgaļu',\n",
              " 'lus': 'Mizo ţawng',\n",
              " 'luz': 'لئری دوٙمینی',\n",
              " 'lv': 'latviešu',\n",
              " 'lzh': '文言',\n",
              " 'lzz': 'Lazuri',\n",
              " 'mad': 'Madhurâ',\n",
              " 'mag': 'मगही',\n",
              " 'mai': 'मैथिली',\n",
              " 'map-bms': 'Basa Banyumasan',\n",
              " 'mdf': 'мокшень',\n",
              " 'mg': 'Malagasy',\n",
              " 'mh': 'Ebon',\n",
              " 'mhr': 'олык марий',\n",
              " 'mi': 'Māori',\n",
              " 'min': 'Minangkabau',\n",
              " 'mk': 'македонски',\n",
              " 'ml': 'മലയാളം',\n",
              " 'mn': 'монгол',\n",
              " 'mni': 'ꯃꯤꯇꯩ ꯂꯣꯟ',\n",
              " 'mnw': 'ဘာသာ မန်',\n",
              " 'mo': 'молдовеняскэ',\n",
              " 'mos': 'moore',\n",
              " 'mr': 'मराठी',\n",
              " 'mrh': 'Mara',\n",
              " 'mrj': 'кырык мары',\n",
              " 'ms': 'Bahasa Melayu',\n",
              " 'ms-arab': 'بهاس ملايو',\n",
              " 'mt': 'Malti',\n",
              " 'mus': 'Mvskoke',\n",
              " 'mwl': 'Mirandés',\n",
              " 'my': 'မြန်မာဘာသာ',\n",
              " 'myv': 'эрзянь',\n",
              " 'mzn': 'مازِرونی',\n",
              " 'na': 'Dorerin Naoero',\n",
              " 'nah': 'Nāhuatl',\n",
              " 'nan': 'Bân-lâm-gú',\n",
              " 'nap': 'Napulitano',\n",
              " 'nb': 'norsk bokmål',\n",
              " 'nds': 'Plattdüütsch',\n",
              " 'nds-nl': 'Nedersaksies',\n",
              " 'ne': 'नेपाली',\n",
              " 'new': 'नेपाल भाषा',\n",
              " 'ng': 'Oshiwambo',\n",
              " 'nia': 'Li Niha',\n",
              " 'niu': 'Niuē',\n",
              " 'nl': 'Nederlands',\n",
              " 'nl-informal': 'Nederlands (informeel)',\n",
              " 'nmz': 'nawdm',\n",
              " 'nn': 'norsk nynorsk',\n",
              " 'no': 'norsk',\n",
              " 'nod': 'ᨣᩤᩴᨾᩮᩬᩥᨦ',\n",
              " 'nog': 'ногайша',\n",
              " 'nov': 'Novial',\n",
              " 'nqo': 'ߒߞߏ',\n",
              " 'nrm': 'Nouormand',\n",
              " 'nso': 'Sesotho sa Leboa',\n",
              " 'nv': 'Diné bizaad',\n",
              " 'ny': 'Chi-Chewa',\n",
              " 'nyn': 'runyankore',\n",
              " 'nys': 'Nyunga',\n",
              " 'oc': 'occitan',\n",
              " 'ojb': 'Ojibwemowin',\n",
              " 'olo': 'livvinkarjala',\n",
              " 'om': 'Oromoo',\n",
              " 'or': 'ଓଡ଼ିଆ',\n",
              " 'os': 'ирон',\n",
              " 'pa': 'ਪੰਜਾਬੀ',\n",
              " 'pag': 'Pangasinan',\n",
              " 'pam': 'Kapampangan',\n",
              " 'pap': 'Papiamentu',\n",
              " 'pcd': 'Picard',\n",
              " 'pcm': 'Naijá',\n",
              " 'pdc': 'Deitsch',\n",
              " 'pdt': 'Plautdietsch',\n",
              " 'pfl': 'Pälzisch',\n",
              " 'pi': 'पालि',\n",
              " 'pih': 'Norfuk / Pitkern',\n",
              " 'pl': 'polski',\n",
              " 'pms': 'Piemontèis',\n",
              " 'pnb': 'پنجابی',\n",
              " 'pnt': 'Ποντιακά',\n",
              " 'prg': 'prūsiskan',\n",
              " 'ps': 'پښتو',\n",
              " 'pt': 'português',\n",
              " 'pt-br': 'português do Brasil',\n",
              " 'pwn': 'pinayuanan',\n",
              " 'qu': 'Runa Simi',\n",
              " 'qug': 'Runa shimi',\n",
              " 'rgn': 'Rumagnôl',\n",
              " 'rif': 'Tarifit',\n",
              " 'rki': 'ရခိုင်',\n",
              " 'rm': 'rumantsch',\n",
              " 'rmc': 'romaňi čhib',\n",
              " 'rmy': 'romani čhib',\n",
              " 'rn': 'ikirundi',\n",
              " 'ro': 'română',\n",
              " 'roa-rup': 'armãneashti',\n",
              " 'roa-tara': 'tarandíne',\n",
              " 'rsk': 'руски',\n",
              " 'ru': 'русский',\n",
              " 'rue': 'русиньскый',\n",
              " 'rup': 'armãneashti',\n",
              " 'ruq': 'Vlăheşte',\n",
              " 'ruq-cyrl': 'Влахесте',\n",
              " 'ruq-latn': 'Vlăheşte',\n",
              " 'rw': 'Ikinyarwanda',\n",
              " 'ryu': 'うちなーぐち',\n",
              " 'sa': 'संस्कृतम्',\n",
              " 'sah': 'саха тыла',\n",
              " 'sat': 'ᱥᱟᱱᱛᱟᱲᱤ',\n",
              " 'sc': 'sardu',\n",
              " 'scn': 'sicilianu',\n",
              " 'sco': 'Scots',\n",
              " 'sd': 'سنڌي',\n",
              " 'sdc': 'Sassaresu',\n",
              " 'sdh': 'کوردی خوارگ',\n",
              " 'se': 'davvisámegiella',\n",
              " 'se-fi': 'davvisámegiella (Suoma bealde)',\n",
              " 'se-no': 'davvisámegiella (Norgga bealde)',\n",
              " 'se-se': 'davvisámegiella (Ruoŧa bealde)',\n",
              " 'sei': 'Cmique Itom',\n",
              " 'ses': 'Koyraboro Senni',\n",
              " 'sg': 'Sängö',\n",
              " 'sgs': 'žemaitėška',\n",
              " 'sh': 'srpskohrvatski / српскохрватски',\n",
              " 'sh-cyrl': 'српскохрватски (ћирилица)',\n",
              " 'sh-latn': 'srpskohrvatski (latinica)',\n",
              " 'shi': 'Taclḥit',\n",
              " 'shi-latn': 'Taclḥit',\n",
              " 'shi-tfng': 'ⵜⴰⵛⵍⵃⵉⵜ',\n",
              " 'shn': 'ၽႃႇသႃႇတႆး ',\n",
              " 'shy': 'tacawit',\n",
              " 'shy-latn': 'tacawit',\n",
              " 'si': 'සිංහල',\n",
              " 'simple': 'Simple English',\n",
              " 'sjd': 'кӣллт са̄мь кӣлл',\n",
              " 'sje': 'bidumsámegiella',\n",
              " 'sk': 'slovenčina',\n",
              " 'skr': 'سرائیکی',\n",
              " 'skr-arab': 'سرائیکی',\n",
              " 'sl': 'slovenščina',\n",
              " 'sli': 'Schläsch',\n",
              " 'sm': 'Gagana Samoa',\n",
              " 'sma': 'åarjelsaemien',\n",
              " 'smn': 'anarâškielâ',\n",
              " 'sms': 'nuõrttsääʹmǩiõll',\n",
              " 'sn': 'chiShona',\n",
              " 'so': 'Soomaaliga',\n",
              " 'sq': 'shqip',\n",
              " 'sr': 'српски / srpski',\n",
              " 'sr-ec': 'српски (ћирилица)',\n",
              " 'sr-el': 'srpski (latinica)',\n",
              " 'srn': 'Sranantongo',\n",
              " 'sro': 'sardu campidanesu',\n",
              " 'ss': 'SiSwati',\n",
              " 'st': 'Sesotho',\n",
              " 'stq': 'Seeltersk',\n",
              " 'sty': 'себертатар',\n",
              " 'su': 'Sunda',\n",
              " 'sv': 'svenska',\n",
              " 'sw': 'Kiswahili',\n",
              " 'syl': 'ꠍꠤꠟꠐꠤ',\n",
              " 'szl': 'ślůnski',\n",
              " 'szy': 'Sakizaya',\n",
              " 'ta': 'தமிழ்',\n",
              " 'tay': 'Tayal',\n",
              " 'tcy': 'ತುಳು',\n",
              " 'tdd': 'ᥖᥭᥰᥖᥬᥳᥑᥨᥒᥰ',\n",
              " 'te': 'తెలుగు',\n",
              " 'tet': 'tetun',\n",
              " 'tg': 'тоҷикӣ',\n",
              " 'tg-cyrl': 'тоҷикӣ',\n",
              " 'tg-latn': 'tojikī',\n",
              " 'th': 'ไทย',\n",
              " 'ti': 'ትግርኛ',\n",
              " 'tk': 'Türkmençe',\n",
              " 'tl': 'Tagalog',\n",
              " 'tly': 'tolışi',\n",
              " 'tly-cyrl': 'толыши',\n",
              " 'tn': 'Setswana',\n",
              " 'to': 'lea faka-Tonga',\n",
              " 'tok': 'toki pona',\n",
              " 'tpi': 'Tok Pisin',\n",
              " 'tr': 'Türkçe',\n",
              " 'tru': 'Ṫuroyo',\n",
              " 'trv': 'Seediq',\n",
              " 'ts': 'Xitsonga',\n",
              " 'tt': 'татарча / tatarça',\n",
              " 'tt-cyrl': 'татарча',\n",
              " 'tt-latn': 'tatarça',\n",
              " 'tum': 'chiTumbuka',\n",
              " 'tw': 'Twi',\n",
              " 'ty': 'reo tahiti',\n",
              " 'tyv': 'тыва дыл',\n",
              " 'tzm': 'ⵜⴰⵎⴰⵣⵉⵖⵜ',\n",
              " 'udm': 'удмурт',\n",
              " 'ug': 'ئۇيغۇرچە / Uyghurche',\n",
              " 'ug-arab': 'ئۇيغۇرچە',\n",
              " 'ug-latn': 'Uyghurche',\n",
              " 'uk': 'українська',\n",
              " 'ur': 'اردو',\n",
              " 'uz': 'oʻzbekcha / ўзбекча',\n",
              " 'uz-cyrl': 'ўзбекча',\n",
              " 'uz-latn': 'oʻzbekcha',\n",
              " 've': 'Tshivenda',\n",
              " 'vec': 'vèneto',\n",
              " 'vep': 'vepsän kel’',\n",
              " 'vi': 'Tiếng Việt',\n",
              " 'vls': 'West-Vlams',\n",
              " 'vmf': 'Mainfränkisch',\n",
              " 'vmw': 'emakhuwa',\n",
              " 'vo': 'Volapük',\n",
              " 'vot': 'Vaďďa',\n",
              " 'vro': 'võro',\n",
              " 'wa': 'walon',\n",
              " 'wal': 'wolaytta',\n",
              " 'war': 'Winaray',\n",
              " 'wls': 'Fakaʻuvea',\n",
              " 'wo': 'Wolof',\n",
              " 'wuu': '吴语',\n",
              " 'xal': 'хальмг',\n",
              " 'xh': 'isiXhosa',\n",
              " 'xmf': 'მარგალური',\n",
              " 'xsy': 'saisiyat',\n",
              " 'yi': 'ייִדיש',\n",
              " 'yo': 'Yorùbá',\n",
              " 'yrl': 'Nhẽẽgatú',\n",
              " 'yue': '粵語',\n",
              " 'za': 'Vahcuengh',\n",
              " 'zea': 'Zeêuws',\n",
              " 'zgh': 'ⵜⴰⵎⴰⵣⵉⵖⵜ ⵜⴰⵏⴰⵡⴰⵢⵜ',\n",
              " 'zh': '中文',\n",
              " 'zh-classical': '文言',\n",
              " 'zh-cn': '中文（中国大陆）',\n",
              " 'zh-hans': '中文（简体）',\n",
              " 'zh-hant': '中文（繁體）',\n",
              " 'zh-hk': '中文（香港）',\n",
              " 'zh-min-nan': 'Bân-lâm-gú',\n",
              " 'zh-mo': '中文（澳門）',\n",
              " 'zh-my': '中文（马来西亚）',\n",
              " 'zh-sg': '中文（新加坡）',\n",
              " 'zh-tw': '中文（臺灣）',\n",
              " 'zh-yue': '粵語',\n",
              " 'zu': 'isiZulu'}"
            ]
          },
          "metadata": {},
          "execution_count": 15
        }
      ]
    },
    {
      "cell_type": "code",
      "source": [
        "'en' in wikipedia.languages()"
      ],
      "metadata": {
        "colab": {
          "base_uri": "https://localhost:8080/"
        },
        "id": "HIksZYRqIIln",
        "outputId": "80efdf4a-1be1-4957-d358-18f619422c44"
      },
      "execution_count": null,
      "outputs": [
        {
          "output_type": "execute_result",
          "data": {
            "text/plain": [
              "True"
            ]
          },
          "metadata": {},
          "execution_count": 17
        }
      ]
    },
    {
      "cell_type": "code",
      "source": [
        "wikipedia.languages()['en']"
      ],
      "metadata": {
        "colab": {
          "base_uri": "https://localhost:8080/",
          "height": 35
        },
        "id": "y9aoNTH6ILTG",
        "outputId": "f442eb83-1ac7-4cb0-ec93-c133d6a138f5"
      },
      "execution_count": null,
      "outputs": [
        {
          "output_type": "execute_result",
          "data": {
            "text/plain": [
              "'English'"
            ],
            "application/vnd.google.colaboratory.intrinsic+json": {
              "type": "string"
            }
          },
          "metadata": {},
          "execution_count": 18
        }
      ]
    },
    {
      "cell_type": "code",
      "source": [
        "covid = wikipedia.page(\"Coronavirus\")\n",
        "ChatGPT = wikipedia.page(\"ChatGPT\")\n",
        "NKUST = wikipedia.page(\"國立高雄科技大學\")"
      ],
      "metadata": {
        "id": "pEGfnTKyMF8z"
      },
      "execution_count": null,
      "outputs": []
    },
    {
      "cell_type": "code",
      "source": [
        "print(covid.title)\n",
        "print(ChatGPT.title)"
      ],
      "metadata": {
        "colab": {
          "base_uri": "https://localhost:8080/"
        },
        "id": "vOpOysMGMHtE",
        "outputId": "29b0ba0c-2e00-4a60-b30c-85a09365f9e3"
      },
      "execution_count": null,
      "outputs": [
        {
          "output_type": "stream",
          "name": "stdout",
          "text": [
            "冠状病毒\n",
            "ChatGPT\n"
          ]
        }
      ]
    },
    {
      "cell_type": "code",
      "source": [
        "print(covid.url)\n",
        "print(ChatGPT.url)"
      ],
      "metadata": {
        "colab": {
          "base_uri": "https://localhost:8080/"
        },
        "id": "Z_PdcGHdMdDI",
        "outputId": "bb6210e2-e3ca-4b33-818c-179241aee4ff"
      },
      "execution_count": null,
      "outputs": [
        {
          "output_type": "stream",
          "name": "stdout",
          "text": [
            "https://zh.wikipedia.org/wiki/%E5%86%A0%E7%8A%B6%E7%97%85%E6%AF%92\n",
            "https://zh.wikipedia.org/wiki/ChatGPT\n"
          ]
        }
      ]
    },
    {
      "cell_type": "code",
      "source": [
        "print(NKUST.content)"
      ],
      "metadata": {
        "colab": {
          "base_uri": "https://localhost:8080/"
        },
        "id": "AtxsmXLtMnIg",
        "outputId": "85651fde-e3ca-4425-ffb0-a8900d0b6f3d"
      },
      "execution_count": null,
      "outputs": [
        {
          "output_type": "stream",
          "name": "stdout",
          "text": [
            "國立高雄科技大學，簡稱高雄科大、高科大、高科 、NKUST，是一所位於中華民國高雄市的國立科技大學，由國立高雄海洋科技大學、國立高雄應用科技大學及國立高雄第一科技大學於2018年合併，為臺灣學生人數規模第二大的高等教育機構，僅次於國立臺灣大學。高雄科技大學所受教育部高等教育深耕計畫每年經費補助為全國科大排名第一。\n",
            "\n",
            "\n",
            "== 合校沿革與校史 ==\n",
            "2013年1月3日教育部召開國立大學合併推動審議會決議，先以「學校地理位置」及「學校招生數」兩項為國立大學合併之優先條件，二校於2013年即開始洽談二校合併規劃，教育部亦於 2013年9月17日同意第一科大與高海科大合併後以「國立高雄科技大學」為校名。高海科大於2013年11月辦理3場次全校性合併公聽會，並於同年11月20日全校教師、行政人員及學生投票，投票結果 61.15%贊成二校合併，學校隨即於 21日召開臨時校務會議確認贊成與高科大合併，並於同年11月25日將結果報部。二校於2014年1至5月召開3次二校合併規劃小組聯席會議，討論合併計畫書及合併期程。後因高應大加入評估三校合併之可能性而暫停二校合併作業。 \n",
            "2014年6月12日，三校皆分別召開校務會議，國立高雄第一科技大學以79.6%贊成通過整併案；國立高雄應用科技大學則以90票贊成、30票反對，於予參與整併案；國立高雄海洋科技大學在校務會議中臨時將與高科大的合併案「合併程序是否繼續」排入議案，投票表決結果55:42，否決合併案，但此次投票為臨時加入，且否定該校於先前所舉辦兩次公投之決議，因此引發不小反彈聲浪。\n",
            "2014年6月19日，海科大再次召開校務會議，會後決議暫緩執行與高科大之合併案。\n",
            "2014年6月25日，國立高雄海洋科技大學再度召開校務會議，確認三校整併案，投票結果58票贊成、38票反對，同意合併。\n",
            "2014年10月8日，教育部會同三校校長舉行會議，預定於2016年8月1日合併成「國立高雄科技大學」 。\n",
            "2015年6月18日國立高雄應用科技大學校務會議否決《三校合併計畫書》，故依同年5月12日「104年度國立高雄應用科技大學等三校合併推動小組第一次會議」決議，改為推動國立高雄第一科技大學與國立高雄海洋科技大學二校合併。但教育部之整併審議會遭兩度取消，因此無法於原定時程（即2016年8月1日）成立新大學。2017年4月，教育部函轉國立高雄應用科技大學校友會就該校重新考慮參與整併案之請求予高應大。6月16日教育部同意三校合併意願提送行政院，惟國立高雄應用科技大學認為與校務會議決議不符，要求暫緩提送。2017年7月20日，行政院召開研商三校合併會議，會議結果原則支持合併，並預定2018年2月1日三校正式合併。合併後國立高雄科技大學學生人數將達2.8萬人，成為台灣規模最大科技大學。「國立高雄科技大學」三校啟動新任校長遴選，要求九月底前經由校務會議，各推派一名遴選委員代表，參與新任大學校長遴選會議。奉行政院2017年12月8日院臺教字第1060040739號函核定，國立高雄第一科技大學、國立高雄海洋科技大學及國立高雄應用科技大學自2018年2月1日合併為「國立高雄科技大學」。2018年1月2日，經過國立高雄科技大學合併研商會議後，教育部決定揭牌儀式由建工校區為主，其他校區則採視訊方式同步辦理揭牌。2018年2月1日，三校正式合併成立「國立高雄科技大學」，首任校長為楊慶煜博士。2018年6月14日，啟用「國立高雄科技大學」新關防印信。\n",
            "2018年6月16日，首屆畢業典禮於建工校區、楠梓校區、第一校區連續舉辦7場次10小時「馬拉松接力」式歡送日間部及進修部13個學院及進修學院共8,185位大學部、碩士及博士畢業生。\n",
            "2018年6月30日，高科大新校徽6月徵集全校性意見、10月經校徽選薦小組會議決定公開全校票選、11月完成全校師生和校友票選選拔出爐，並於12月8日校慶當天揭曉公佈新校徽。\n",
            "2018年7月14日，正式啟用「國立高雄科技大學附設進修學院」印信。\n",
            "2018年8月28日，教育部核定通過「國立高雄科技大學學則」與「國立高雄科技大學附設專科部學則」。\n",
            "2018年12月8日，首屆校慶活動以「元年賀彩」為主題跨校區舉行。\n",
            "2018年12月26日，107-2校務會議通過新訂「組織規程」，並依程序函送教育部審核。\n",
            "2019年\n",
            "2019年2月1日，依組織規程，調整部份行政單位編制及運作，另「共同教育學院」也正式運作，將原三校的通識教育中心整合為「共同教育學院」，第1任院長由李嘉紘教務長兼任之。\n",
            "2019年3月27日，教育部臺教技(二)字第1080042632號函核定組織規程，並請自108學年度起學術組織調整，請依校內行政程序於組織規程中修正，並於108年7月31日前報部。預計於108學年度起以新系所招生。\n",
            "2019年3月30日，首屆運動會於楠梓校區舉辦，主題「We are One Team」象徵三校結合成一大團隊，融合科技潛水展示與體驗活動。\n",
            "2019年4月15日，成立五校區（旗津、燕巢、楠梓、建工、第一）之綜合業務處，將業務量最為龐大之教務、學務、總務三大類業務，授權由各校區綜合業務處承辦。\n",
            "2019年5月21日，教育部臺教技(一)字第1080073737D號函核定新設「金融系進修部四技」。\n",
            "2019年6月12日，107-4校務會議通過「附設進修學院組織規程」。\n",
            "2019年6月22日，首度移師於高雄巨蛋舉行107學年度畢業典禮，齊聚 5 個校區近 7,500 名畢業生，同時邀請到台積電創辦人張忠謀博士出席勉勵畢業生終身學習。\n",
            "2019年7月11日，教育部臺教技(二)字第1080096051號函復修正組織規程准予核定，並自108年8月1日起生效。共計10個學院47個系所。\n",
            "(1) 燕巢校區「管理學院會計系」與第一校區「財金學院會計資訊系」整併為「會計資訊系」，並改隸屬商業智慧學院。\n",
            "(2) 建工校區「光電與通訊工程研究所」與第一校區「電機工程研究所光電組」整併，並改名為「光電工程研究所」。\n",
            "(3) 第一校區「電機工程研究所系統資訊與控制組」與建工校區「電機工程系」整併，並改名為「電機工程系智慧自動化系統碩士班(含碩士在職專班)」。2019年7月22日，教育部臺教技(一)字第1080107506號函復新設「商業智慧學院博士班」，准予核定。\n",
            "2019年10月25日，教育部臺教技(一)字第1080154388E號函復核定，申請109年度(秋季班)「化工材料研發產業碩士專班」，准予同意設立。\n",
            "2020年\n",
            "2020年1月8日，108-1臨時校務會議通過財金學院財務管理系隸屬管理學院。\n",
            "2020年1月15日，教育部臺教人(二)字第1090005054號函核定，107年2月1日生效之暫行組織規程，業經考試院修正核備。\n",
            "2020年1月30日，配合國家推動漁業公費生政策，109學年度漁業生產與管理系設立「漁業公費專班」，首次辦理漁管系公費專班招生。\n",
            "2020年3月26日，教育部臺教技(一)字第1090045588D號函復申請110學年度停招機電工程系先進製造科技日間碩士班及資訊財務日間碩士學位學程班，准予同意。\n",
            "2020年5月12日，教育部臺教技(一)字第1090067153G號函復核定，申請增設110學年度「高瞻科技不分系學士學位學程」，准予同意設立。(自109年8月1日生效)\n",
            "2020年5月14日，教育部臺教技(一)字第1090069934B號函復核定，申請110學年度調整「營建工程系碩士在職專班」改名為「營建工程系營建工程與管理碩士在職專班」、「應用英語系英語專業溝通與教學科技碩士班」與「應用語言學與英語教學碩士班」整併為「應用英語系應用語言學與英語教學碩士班」，准予同意。\n",
            "2020年7月21日，教育部臺教技(一)字第1090105684號函復核定，申請110學年度「管理學院博士班」分組新增「管理組」、「財金組」，准予同意；商業智慧學院產業高階經營管理博士班緩議。\n",
            "2020年8月10日，共同教育學院成立「師資培育中心」籌備處。\n",
            "2021年\n",
            "2021年3月11日，高雄市政府函建工校區北棟教學大樓登錄歷史建築公告。\n",
            "2021年6月30日，依教育部臺教技(一)字第1100035828D號、臺教技(一)字第1100071516G號函辦理。\n",
            "(1) 111學年度增設：能源與冷凍空調工程系(日間部四技)、電訊工程系碩士在職專班。\n",
            "(2) 111學年度停招：行銷與流通管理系連鎖加盟管理碩士班(日間碩士班)、環境與安全衛生工程系消防與防災工程碩士在職專班。2021年8月1日，正式成立師資培育中心，開設高級中等學校教育學程。\n",
            "2021年9月1日，與中華民國海軍軍官學校簽署合作備忘錄，二校合作分享學術、研究資源，跨校開課選課。2022年\n",
            "2022年3月2日，原隸工學院之機械工程系、模具工程系、機電工程系、能源與冷凍空調工程系，新組「智慧機電學院」。\n",
            "2023年\n",
            "2023年8月1日起，原人文社會學院改名創新設計學院；原隸工學院之工業設計系改隸創新設計學院；原隸人文社會學院之人力資源管理系改隸管理學院。\n",
            "\n",
            "\n",
            "== 歷任校長 ==\n",
            "\n",
            "\n",
            "== 排名列表 ==\n",
            "「美國新聞與世界報導」（U.S. News & World Report）公布高科大排名全球1747名。\n",
            "\n",
            "\n",
            "== 校區 ==\n",
            "108學年度起學院與系所整合，但仍維持於原有校區運作為主，未來將逐步配合學校規劃調整各學院於同一校區。\n",
            "\n",
            "\n",
            "=== 燕巢校區 ===\n",
            "燕巢校區位在高雄市燕巢區深中路。現設有管理學院、商業智慧學院、人文社會學院、智慧機電學院。\n",
            "\n",
            "\n",
            "=== 第一校區 ===\n",
            "第一校區橫跨高雄市燕巢區與楠梓區，以中山高速公路為界，鄰近規劃中之高雄捷運紫線車站（暫定名稱高科大第一校區）及高鐵燕巢總機廠，現設有工學院、智慧機電學院、電機與資訊學院、管理學院、外語學院、創夢工廠（創新創業教育中心）。\n",
            "\n",
            "\n",
            "=== 楠梓校區 ===\n",
            "楠梓校區位在高雄市楠梓區，鄰近高雄捷運紅線後勁站及楠梓加工出口區。現設有海洋商務學院、水圈學院、海事學院、電機與資訊學院。\n",
            "\n",
            "\n",
            "=== 建工校區 ===\n",
            "建工校區位在高雄市三民區，與高雄高工為鄰，鄰近興建中之高雄捷運黃線/環狀輕軌高雄高工站。現設有工學院、智慧機電學院、電機與資訊學院以及各系之進修學院。\n",
            "\n",
            "\n",
            "=== 旗津校區 ===\n",
            "旗津校區位在高雄市旗津區，擁有全臺灣唯一的學校專屬碼頭。現設有海事學院。\n",
            "\n",
            "\n",
            "== 學術單位 ==\n",
            "現行學術單位如下：表示各校區： 燕巢   第一   楠梓   建工   旗津 \n",
            "\n",
            "\n",
            "== 姊妹校 ==\n",
            "本校姊妹校在亞洲地區共有381所，歐洲地區50所，美洲地區36所，澳洲地區9所。\n",
            "\n",
            "\n",
            "== 相關條目 ==\n",
            "國立高雄第一科技大學\n",
            "國立高雄應用科技大學\n",
            "國立高雄海洋科技大學\n",
            "寶拉麗絲號\n",
            "育英二號\n",
            "臺灣大專院校整併\n",
            "\n",
            "\n",
            "== 參考資料 ==\n",
            "國立高雄科技大學合併計畫書（核定本）\n",
            "\n",
            "\n",
            "== 外部連結 ==\n",
            "國立高雄科技大學 （页面存档备份，存于互联网档案馆）\n",
            "國立高雄科技大學的Facebook專頁\n",
            "YouTube上的國立高雄科技大學頻道\n"
          ]
        }
      ]
    },
    {
      "cell_type": "code",
      "source": [
        "print(covid.images)\n",
        "print(ChatGPT.images)"
      ],
      "metadata": {
        "colab": {
          "base_uri": "https://localhost:8080/"
        },
        "id": "Aw6sLGjRcYAj",
        "outputId": "372155ff-93a1-40d9-f985-25bc113707d8"
      },
      "execution_count": null,
      "outputs": [
        {
          "output_type": "stream",
          "name": "stdout",
          "text": [
            "['https://upload.wikimedia.org/wikipedia/commons/b/b2/109239.fig.001a.rotated.png', 'https://upload.wikimedia.org/wikipedia/commons/2/20/12985_2015_421_Fig1_HTML.webp', 'https://upload.wikimedia.org/wikipedia/commons/8/80/12985_2015_421_Fig2_HTML.webp', 'https://upload.wikimedia.org/wikipedia/commons/c/cb/14-1165-F1.jpg', 'https://upload.wikimedia.org/wikipedia/commons/b/bc/15010_2020_1486_Fig1_HTML.webp', 'https://upload.wikimedia.org/wikipedia/commons/8/82/SARS-CoV-2_without_background.png', 'https://upload.wikimedia.org/wikipedia/commons/9/96/3D_medical_animation_coronavirus_structure.jpg', 'https://upload.wikimedia.org/wikipedia/commons/0/03/Animal_origins_of_human_coronaviruses.webp', 'https://upload.wikimedia.org/wikipedia/commons/f/f1/Brontchite_o%C3%BBs4.jpg', 'https://upload.wikimedia.org/wikipedia/commons/2/26/COVID-19_Outbreak_World_Map.svg', 'https://upload.wikimedia.org/wikipedia/commons/9/9a/Cells-09-01267-g001.png', 'https://upload.wikimedia.org/wikipedia/commons/4/4a/Commons-logo.svg', 'https://upload.wikimedia.org/wikipedia/commons/f/f4/Coronavirus_replication.png', 'https://upload.wikimedia.org/wikipedia/commons/7/78/Coronaviruses_004_lores.jpg', 'https://upload.wikimedia.org/wikipedia/commons/9/93/Coronaviruses_229E%2C_B814_and_IBV.png', 'https://upload.wikimedia.org/wikipedia/commons/6/69/Covid19_vaccine_biontech_pfizer_3.jpg', 'https://upload.wikimedia.org/wikipedia/commons/5/5f/Disambig_gray.svg', 'https://upload.wikimedia.org/wikipedia/commons/6/66/Esculaap4.svg', 'https://upload.wikimedia.org/wikipedia/commons/8/82/Fip-infected-cat.JPG', 'https://upload.wikimedia.org/wikipedia/commons/a/a5/Infobox_info_icon2.svg', 'https://upload.wikimedia.org/wikipedia/commons/6/65/Lock-green.svg', 'https://upload.wikimedia.org/wikipedia/commons/1/1e/MERS-CoV_map.png', 'https://upload.wikimedia.org/wikipedia/commons/8/8a/OOjs_UI_icon_edit-ltr-progressive.svg', 'https://upload.wikimedia.org/wikipedia/commons/3/3f/PDB_2cjr_EBI.png', 'https://upload.wikimedia.org/wikipedia/commons/c/c5/RF03116.svg', 'https://upload.wikimedia.org/wikipedia/commons/b/b2/RF03119.svg', 'https://upload.wikimedia.org/wikipedia/commons/1/13/RF03120.svg', 'https://upload.wikimedia.org/wikipedia/commons/1/1b/RF03121.svg', 'https://upload.wikimedia.org/wikipedia/commons/2/21/RF03122.svg', 'https://upload.wikimedia.org/wikipedia/commons/1/15/RF03124.svg', 'https://upload.wikimedia.org/wikipedia/commons/f/fd/Replication-transcription_complex_for_Coronaviruses_cropped.png', 'https://upload.wikimedia.org/wikipedia/commons/4/4d/SARS-CoV-2_%28Wikimedia_colors%29.svg', 'https://upload.wikimedia.org/wikipedia/commons/8/82/SARS-CoV-2_without_background.png', 'https://upload.wikimedia.org/wikipedia/commons/0/0d/SARS_Coronavirus_Genome_Organization.png', 'https://upload.wikimedia.org/wikipedia/commons/c/c6/SARS_map.svg', 'https://upload.wikimedia.org/wikipedia/commons/2/2f/Sida-aids.png', 'https://upload.wikimedia.org/wikipedia/commons/7/75/Small_Pencil_Icon.svg', 'https://upload.wikimedia.org/wikipedia/commons/d/d5/Star_of_life_caution.svg', 'https://upload.wikimedia.org/wikipedia/commons/9/94/Symbol_support_vote.svg', 'https://upload.wikimedia.org/wikipedia/commons/3/3d/TEM_of_coronavirus_OC43.jpg', 'https://upload.wikimedia.org/wikipedia/commons/1/1c/TPI1_structure.png', 'https://upload.wikimedia.org/wikipedia/commons/8/8e/Transcription_of_nested_mRNAs.jpg', 'https://upload.wikimedia.org/wikipedia/commons/e/ec/Wiktionary-logo.svg', 'https://upload.wikimedia.org/wikipedia/commons/e/ec/Wiktionary-logo.svg', 'https://upload.wikimedia.org/wikipedia/commons/c/cd/Zh_conversion_icon_m.svg']\n"
          ]
        }
      ]
    },
    {
      "cell_type": "code",
      "source": [
        "print(covid.links)\n",
        "print(ChatGPT.links)"
      ],
      "metadata": {
        "colab": {
          "base_uri": "https://localhost:8080/"
        },
        "id": "1ZiQRS3scZ2j",
        "outputId": "84d23d35-69c4-442b-dfc5-d7a1127196f9"
      },
      "execution_count": null,
      "outputs": [
        {
          "output_type": "stream",
          "name": "stdout",
          "text": [
            "['1889–1890年流感大流行', '1920年代', '2015年中東呼吸綜合症韓國疫情', '2018年中東呼吸綜合症疫情', '2019冠状病毒病', '2019冠状病毒病疫情', '2019冠状病毒病疫情引发的经济衰退', '2019冠状病毒病疫苗', '2019新型冠状病毒', '2′, 5′-寡腺苷酸合成酶', \"3'非轉譯區\", '3C樣蛋白酶', '3’端聚線苷酸尾', '5′端帽', '5′非轉譯區', 'ATF6', 'ATG5', 'ArcGIS', 'Avian infectious bronchitis', 'BECN1', 'BM48-31病毒', 'Bax', 'BioNTech', 'Brangacovirus', 'BtKY72病毒', 'B細胞', 'CCL2', 'CEACAM1', 'CIDRAP', 'COX-2', 'Cornell University College of Veterinary Medicine', 'C端', 'DNA夾', 'DNA病毒', 'EIF-2激酶', 'EIF2AK3', 'EIF4EBP1', 'ERN1', 'Hibecovirus', 'ICD-10', 'ISG15', 'IgA', 'Igacovirus', 'JNK', 'MAP1LC3B', 'MAPK/ERK途徑', 'MDA5', 'MRNA', 'N7-甲基轉移酶', 'N95口罩', 'NL63相关蝙蝠冠状病毒种BtKYNL63-9b', 'N端', 'P38', 'Pleconaril', 'RIG-I', 'RNA疫苗', 'RNA病毒', 'RNA複製酶', 'SARS病毒的ORF8', 'The New York Times', 'T細胞', 'XBP1', 'Α螺旋', '丁型冠狀病毒屬', '丁型流感病毒', '三磷酸酶', '上游开放阅读框', '上皮細胞', '世界卫生组织', '世界海洋物种目录', '世界衛生組織', '丙型冠状病毒属', '丙型流感病毒', '丙氨酸氨肽酶', '严重急性呼吸系统综合征冠状病毒2', '严重急性呼吸综合征冠状病毒2', '严重急性呼吸综合症冠状病毒2变异株', '严重急性呼吸道综合征冠状病毒', '严重急性呼吸道综合征冠状病毒1型', '中华菊头蝠', '中国棱蜥', '中東呼吸症候群冠狀病毒', '中東呼吸綜合症', '中東呼吸綜合症冠狀病毒', '中東呼吸綜合症疫情', '中耳炎', '中華菊頭蝠冠狀病毒HKU32', '乙型冠状病毒属支系A', '乙型冠状病毒属支系C', '乙型冠状病毒属支系D', '乙型冠狀病毒1型', '乙型冠狀病毒一型', '乙型冠狀病毒屬', '乙型流感病毒', '二肽基肽酶-4', '亞屬', '人畜共通傳染病', '人類偏肺病毒', '人類冠狀病毒229E', '人類冠狀病毒HKU1', '人類冠狀病毒NL63', '人類冠狀病毒OC43', '人類副流感病毒', '人類呼吸道合胞病毒', '伊利诺伊大学厄巴纳-香槟分校', '伏翼蝠冠状病毒HKU5', '休克', '传播途径', '併發症', '促分裂原活化蛋白激酶', '保守序列', '保持社交距離', '信使核糖核酸', '假結結構', '傳染性支氣管炎病毒', '先天免疫', '免疫反應', '兔', '兔冠狀病毒HKU14', '內吞作用', '內膜系統', '內質網', '內質網關聯蛋白質分解', '全球大流行', '全球生物多樣性資訊機構', '全身乏力', '共价键', '共演化', '内质网-高尔基体中间体', '冠状病毒刺突蛋白', '冠状病毒科', '凝集素', '分子伴侣', '分子鐘', '分子開關', '刺蝟', '刺蝟冠狀病毒', '創傷後壓力症候群', '加帽酶', '勒托病毒亚科', '北達科他州', '医学主题词', '半乳糖凝集素', '原子质量单位', '去泛素酶', '去髓鞘', '反芻動物', '发热', '受体', '受體結合結構域', '吉达', '含缬酪肽蛋白', '呼吸困难', '呼吸机', '呼吸衰竭', '呼吸道', '咳嗽', '咽喉痛', '咽炎', '哮吼', '哺乳动物', '哺乳動物', '唾液酸', '唾腺', '單磷酸鳥苷', '嗅觉丧失', '嗜神经病毒', '嘔吐', '器官培養', '器官衰竭', '噴嚏', '嚴重急性呼吸系統綜合症', '嚴重急性呼吸系統綜合症疫情', '嚴重急性呼吸系統綜合症相關冠狀病毒', '嚴重急性呼吸綜合症冠狀病毒2型', '國際疾病與相關健康問題統計分類', '國際病毒分類委員會', '基因組', '基因重組', '多发性硬化症', '多聚腺苷酸聚合酶', '夜鷺冠狀病毒HKU19', '大衛·A·泰瑞爾', '大足鼠耳蝠冠狀病毒Sax-2011', '天竺鼠', '奈米', '姬蛙甲型勒托病毒一型', '學名', '实验大鼠', '实验小鼠', '宿主特異性', '小南嵌套病毒纲', '小核糖病毒门', '小鼠', '屬', '希臘文', '干扰素诱导跨膜蛋白', '干擾素', '广东省', '庫氏伏翼冠狀病毒3398', '引子酶', '弗林蛋白酶', '弹性蛋白酶', '後遺症', '微丝', '微管', '急性呼吸窘迫综合征', '感冒研究單位', '感染力', '憂鬱症', '扁颅蝠冠状病毒HKU4', '扎里亞蝙蝠冠狀病毒', '托羅病毒', '抗增殖蛋白', '抗病毒药物', '抗體', '抗體效價', '拉丁文', '支气管炎', '整合蛋白', '整合规范文档', '文成鼩鼱病毒', '文鳥冠狀病毒HKU13', '方向性 (分子生物学)', '无症状', '明尼苏达大学', '普氏蹄蝠冠状病毒Zhejiang2013', '普通感冒', '最近共同祖先', '未折疊蛋白反應', '東北刺蝟冠狀病毒HKU31', '果子狸', '果子貍SARS冠狀病毒', '果子貍SARS病毒', '果蝠冠状病毒GCCDC1', '果蝠冠状病毒HKU9', '树突细胞', '校對 (生物學)', '核壳', '核糖核酸', '核糖核酸外切酶', '核糖核酸酶L', '核糖病毒域', '核糖體', '核糖體移碼', '核鹼基', '梅毒螺旋體', '模式物種', '模式种', '次基因組RNA', '正單鏈RNA病毒', '正核糖病毒界', '正黏液病毒科', '武汉市', '毛細支氣管炎', '氢离子', '氣管', '水鳧冠状病毒HKU20', '水鼬冠狀病毒', '沙烏地阿拉伯', '沙特阿拉伯', '泌尿生殖系统', '泛素', '波形蛋白', '波斯葉鼻蝠屬', '泪腺', '流感', '流行性感冒病毒', '流鼻水', '海洋和非海洋属临时登记册', '海豹', '消化道', '湖北省', '溫帶地區', '溶體', '滑動序列', '潜伏期', '火雞', '灰伏翼冠狀病毒HKU25', '熱帶地區', '爬行類', '牛', '牛冠狀病毒', '物媒', '物種', '犬冠状病毒', '犬冠狀病毒HuPn-2018', '犬呼吸道冠狀病毒', '犬舍咳', '狐蝠科', '狗', '猪丁型冠状病毒', '猪传染性胃肠炎病毒', '猪冠状病毒', '猪急性腹泻综合征冠状病毒', '猪流行性腹泻病毒', '猫传染性腹膜炎', '猫冠状病毒', '獸醫學', '瓊·阿爾梅達', '生物多樣性', '生物氣凝膠', '田鼠冠狀病毒2JL14', '甲型冠狀病毒1型', '甲型冠狀病毒2型', '甲型冠狀病毒一型', '甲型冠狀病毒屬', '甲型流感病毒', '甲基化', '甲基轉移酶', '異名', '疫苗', '疲倦', '病毒', '病毒分類', '病毒包膜', '病毒孔蛋白', '病毒的非結構蛋白', '病毒結構蛋白', '病毒致病機制', '症狀', '癌胚抗原相關細胞黏附分子1', '發炎反應', '發燒', '白细胞介素-6', '白细胞介素-8', '真核起始因子', '真核起始因子2', '真核起始因子4E', '硫酸肝素', '磷脂双分子层', '磷蛋白', '磷酸化', '祖魯棕蝠冠狀病毒', '神經元', '禽冠狀病毒', '禽冠狀病毒9203', '禽類傳染性支氣管炎病毒', '科 (生物)', '突變', '第一型干擾素', '第三型膜蛋白', '粪口路径', '精胺酸', '糞口途徑', '紅冠水雞冠狀病毒HKU21', '細胞凋亡', '細胞核', '細胞激素', '細胞膜', '細胞自噬', '細胞質', '細胞骨架', '組織特異性', '組織蛋白酶', '結構域', '絨山蝠冠狀病毒SC2013', '經濟大恐慌', '維基物種', '網巢病毒目', '繡眼冠狀病毒HKU16', '约翰斯·霍普金斯大学', '纯化选择', '纽约时报', '细胞培养', '维基共享资源', '维基数据', '维基百科', '维基词典', '缺氧', '缺血性骨壞死', '网络生命大百科', '羅尼病毒科', '羊駝冠狀病毒', '美国国家生物技术信息中心', '美国疾病控制与预防中心', '美國國家衛生院', '美洲野牛', '羚羊', '聖湯瑪士醫院', '肌肉痛', '肯亞', '肺', '肺炎', '肺纖維化', '肿瘤坏死因子-α', '胞內物質運輸', '胞內體', '胞吐作用', '胞外域', '胱天蛋白酶', '胸腺', '胺基酸', '脑', '脾臟', '腸炎', '腸道病毒', '腹瀉', '腺病毒', '膜融合', '膜融合蛋白', '自然 (期刊)', '自然宿主', '芝加哥大學', '苏格兰折耳猫', '英國醫學研究委員會', '莖環', '莫德纳2019冠状病毒病疫苗', '菊頭蝠冠狀病毒HKU2', '菊頭蝠科', '葉鼻蝠科', '蘇珊·魏斯', '虛弱', '蛋白三聚體', '蛋白質', '蛋白質激酶R', '蛋白質結構域', '蛋白质折叠', '蛋白酶', '蛙', '蝙蝠', '蝙蝠冠狀病毒CDPHE15', '蝙蝠冠狀病毒HKU10', '蝙蝠携带的病毒', '蝙蝠科', '螺旋酶', '血管紧张素转化酶2', '血細胞凝集素酯酶', '補體結合試驗', '褐扁顱蝠冠狀病毒HKU33', '訊息傳遞 (生物)', '記憶性B細胞', '記憶性T細胞', '豬', '豬凝血性腦脊髓炎病毒', '貓', '趨同演化', '跨物種感染', '跨膜丝氨酸蛋白酶2', '跨膜結構域', '蹄蝠屬', '輔受體', '輝瑞', '轉譯', '轉譯後修飾', '轉錄', '辉瑞－BioNTech 2019冠状病毒病疫苗', '适应性免疫', '遙距教育', '醚', '醣基化', '醣類', '鈉離子', '鉀離子', '錯誤災難', '钙离子', '链球菌性咽炎', '長翼蝠冠状病毒HKU8', '長翼蝠冠狀病毒1型', '長頸鹿', '開放閱讀框', '阿拉伯半島', '隔离检疫', '隼冠狀病毒HKU27', '雁冠狀病毒CB17', '離子通道', '離胺酸', '雪貂', '雪貂冠狀病毒', '電子顯微鏡', '非典型肺炎', '頭痛', '顺德区', '飛沫', '食欲不振', '養豬業', '香港', '馬', '馬冠狀病毒', '馬鐵菊頭蝠冠狀病毒HuB-2013', '馴鹿', '駱駝', '马铁菊头蝠', '马铁菊头蝠甲型冠状病毒HuB-2013', '骨質疏鬆症', '髓鞘', '高頭蝠冠狀病毒512', '魚類', '鯨豚', '鯨豚冠狀病毒', '鳥類', '鴨冠狀病毒2714', '鵪鶉冠狀病毒HKU30', '鵯冠狀病毒HKU11', '鸟', '鸡', '鹿', '鹿城褐家鼠冠状病毒', '麻雀冠狀病毒HKU17', '黃毛果蝠冠狀病毒C704', '黃鼠冠狀病毒HKU24', '鼠冠狀病毒', '鼠肝炎病毒', '鼩鼱', '鼩鼱冠狀病毒T14', '鼻塞', '鼻病毒', '鼻竇炎']\n",
            "['API', 'Ars Technica', 'BBC', 'BBS', 'Bard (聊天机器人)', 'Bing AI', 'CBC新闻', 'CNN', 'DALL-E', 'Diffusion model', 'EWeek', 'GPT-3', 'GPT-4', 'GitHub Copilot', 'Google', 'Mashable', 'Midjourney', 'NPR', 'OpenAI', 'OpenAI Codex', 'Paul Krugman', 'Python', 'Slate', 'Slate (magazine)', 'Stack Overflow', 'The Atlantic', 'The Guardian', 'The Intercept', 'The New York Times', 'The Times', 'The Verge', 'Time (magazine)', 'Transformer模型', 'University of Texas at Austin', 'Vox', '专有软件', '东方财富网', '中国新闻周刊', '中国证券报', '中美洲', '丹·吉尔摩', '亞利桑那州立大學', '人工智能', '企劃', '伊恩·罗伯茨 (语言学家)', '保羅·克魯曼', '元语智能', '先驱大楼', '克里斯托弗·哥伦布', '免模型 (强化学习)', '全国广播公司商业频道', '凯尔西·派珀', '劇本', '卫报', '危地马拉', '古德哈特定律', '同行评审', '国际机器学习大会', '图灵测试', '墨西哥', '大型语言模型', '大西洋 (雜誌)', '大西洋月刊', '孙达尔·皮柴', '對話程式語言模型', '尼加拉瓜', '左翼', '幻觉 (人工智能)', '强化学习', '微信', '微信公众号', '微信小程序', '微软', '德里克·汤普森 (记者)', '心智理論', '文心一言', '施普林格·自然', '時代雜誌', '普林斯顿大学', '机器学习', '東數西算', '流浪地球2', '深度学习', '澎湃新闻', '澳大利亚机器学习研究所', '環境主義', '生成型预训练变换模型', '生成对抗网络', '电视剧', '白領', '百度', '监督学习', '种族主义', '科学 (期刊)', '童话', '第一财经', '第二次世界大战期间德国统治下的强迫劳动', '算法偏差', '紐約市教育局', '索菲亚 (机器人)', '纳粹德国', '纽约时报', '维基共享资源', '聊天機器人', '自由主义', '舊金山', '虛擬助理', '语言模型', '诺姆·乔姆斯基', '软件开发', '软件许可证', '近端策略优化', '通用人工智能', '金融', '阿道夫·希特勒', '霍尔顿·索普', '首席执行官', '香港大学']\n"
          ]
        }
      ]
    }
  ]
}